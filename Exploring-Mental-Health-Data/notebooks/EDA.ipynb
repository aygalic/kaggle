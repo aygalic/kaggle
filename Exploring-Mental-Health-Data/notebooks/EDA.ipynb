{
 "cells": [
  {
   "cell_type": "code",
   "execution_count": 147,
   "metadata": {},
   "outputs": [],
   "source": [
    "import pandas as pd\n",
    "import numpy as np\n",
    "import sklearn\n",
    "from sklearn.ensemble import RandomForestClassifier\n",
    "from collections import Counter\n"
   ]
  },
  {
   "cell_type": "code",
   "execution_count": 148,
   "metadata": {},
   "outputs": [],
   "source": [
    "data = pd.read_csv(\"../data/playground-series-s4e11/train.csv\")\n",
    "test_data = pd.read_csv(\"../data/playground-series-s4e11/test.csv\")"
   ]
  },
  {
   "cell_type": "code",
   "execution_count": 149,
   "metadata": {},
   "outputs": [],
   "source": [
    "model = RandomForestClassifier(n_estimators= 500)"
   ]
  },
  {
   "cell_type": "code",
   "execution_count": 150,
   "metadata": {},
   "outputs": [],
   "source": [
    "X = data.drop([\"Depression\", \"Name\", \"id\"], axis = 1)\n",
    "y = data[\"Depression\"]\n",
    "\n",
    "X_test = test_data.drop([\"Name\", \"id\"], axis = 1)"
   ]
  },
  {
   "cell_type": "code",
   "execution_count": 127,
   "metadata": {},
   "outputs": [],
   "source": [
    "# this actually decrease the performance widely\n",
    "def concat_features(data:pd.DataFrame) -> pd.DataFrame:\n",
    "    pres = [[work_pres, academic_pres][is_student]  for (academic_pres, work_pres, is_student) in zip(data[\"Academic Pressure\"], data[\"Work Pressure\"], data[\"Working Professional or Student\"]==\"Student\")]\n",
    "    data[\"Work/Study Presure\"] = pres\n",
    "    data = data.drop([\"Academic Pressure\", \"Work Pressure\"], axis=1)\n",
    "    \n",
    "    sat = [[work_sat, academic_sat][is_student]  for (work_sat, academic_sat, is_student) in zip(data[\"Study Satisfaction\"], data[\"Job Satisfaction\"], data[\"Working Professional or Student\"]==\"Student\")]\n",
    "    data[\"Work/Study Satisfaction\"] = sat\n",
    "    data = data.drop([\"Study Satisfaction\", \"Job Satisfaction\"], axis=1)\n",
    "    return data\n",
    "\n"
   ]
  },
  {
   "cell_type": "code",
   "execution_count": 151,
   "metadata": {},
   "outputs": [],
   "source": [
    "#X = concat_features(X)\n",
    "#X_test = concat_features(X_test)\n"
   ]
  },
  {
   "cell_type": "code",
   "execution_count": null,
   "metadata": {},
   "outputs": [],
   "source": []
  },
  {
   "cell_type": "code",
   "execution_count": 152,
   "metadata": {},
   "outputs": [],
   "source": [
    "valid_cities = [city for (city,count) in Counter(X_test[\"City\"]).items() if count > 10]\n",
    "\n",
    "def fix_outliers(data: pd.DataFrame) -> pd.DataFrame:\n",
    "    data[\"City\"] = [city if city in valid_cities else \"Unknown\" for city in data[\"City\"]]\n",
    "    return data\n",
    "\n",
    "X = fix_outliers(X)\n",
    "X_test = fix_outliers(X_test)\n"
   ]
  },
  {
   "cell_type": "code",
   "execution_count": 153,
   "metadata": {},
   "outputs": [
    {
     "data": {
      "text/plain": [
       "(array(['Agra', 'Ahmedabad', 'Bangalore', 'Bhopal', 'Chennai', 'Delhi',\n",
       "        'Faridabad', 'Ghaziabad', 'Hyderabad', 'Indore', 'Jaipur',\n",
       "        'Kalyan', 'Kanpur', 'Kolkata', 'Lucknow', 'Ludhiana', 'Meerut',\n",
       "        'Mumbai', 'Nagpur', 'Nashik', 'Patna', 'Pune', 'Rajkot',\n",
       "        'Srinagar', 'Surat', 'Thane', 'Unknown', 'Vadodara', 'Varanasi',\n",
       "        'Vasai-Virar', 'Visakhapatnam'], dtype=object),\n",
       " array([4684, 5613, 4123, 3475, 4044, 3593, 3268, 3620, 4496, 4872, 4328,\n",
       "        6591, 4398, 5689, 4280, 5226, 5528, 4966, 4209, 3144, 5924, 5210,\n",
       "        5207, 5074, 4636, 4289,   98, 4568, 4606, 5765, 5176]))"
      ]
     },
     "execution_count": 153,
     "metadata": {},
     "output_type": "execute_result"
    }
   ],
   "source": [
    "np.unique(X[\"City\"], return_counts=1)"
   ]
  },
  {
   "cell_type": "code",
   "execution_count": 97,
   "metadata": {},
   "outputs": [
    {
     "data": {
      "text/plain": [
       "array(['BHM', 'LLB', 'BBA', 'MCA', 'MD', 'B.Pharm', 'ME', 'BSc', 'B.Arch',\n",
       "       'BCA', 'BE', 'MA', 'B.Ed', 'B.Com', 'MBA', 'M.Com', 'MHM',\n",
       "       'Class 12', 'BA', 'M.Ed', 'PhD', 'MSc', 'M.Tech', 'B.Tech', 'LLM',\n",
       "       'MBBS', 'M.Pharm', 'UX/UI Designer', 'Nalini', 'BEd', 'Veda',\n",
       "       'Degree', 'H_Pharm', 'B.Sc', 'Business Analyst', 'M.Arch',\n",
       "       'LL.Com', 'Data Scientist', 'MPharm', 'L.Ed', 'P.Pharm', 'Kalyan',\n",
       "       'HR Manager', 'S.Pharm', 'LLBA', 'Vrinda', 'M. Business Analyst',\n",
       "       'Bhavesh', 'LLCom', '29', 'MTech', 'Plumber', '5.61', 'B.03',\n",
       "       'Ritik', '5.56', 'M', 'MEd', 'B BA', 'BArch', 'Bhopal', 'P.Com',\n",
       "       'B.B.Arch', 'ACA', 'M_Tech', 'Pihu', 'BB', 'Jhanvi', 'LLTech',\n",
       "       'Aarav', 'Entrepreneur', 'Lata', 'S.Arch', 'HCA', '5.88',\n",
       "       'LL B.Ed', 'M.S', 'Navya', 'Mahika', nan, 'K.Ed', 'B.3.79',\n",
       "       'Working Professional', 'LLS', 'Doctor', 'N.Pharm', 'B B.Com',\n",
       "       'BPharm', 'RCA', 'Mihir', 'Advait'], dtype=object)"
      ]
     },
     "execution_count": 97,
     "metadata": {},
     "output_type": "execute_result"
    }
   ],
   "source": [
    "X[X[\"Working Professional or Student\"]!=\"Student\"][\"Degree\"].unique()"
   ]
  },
  {
   "cell_type": "code",
   "execution_count": 98,
   "metadata": {},
   "outputs": [
    {
     "data": {
      "text/plain": [
       "array(['B.Pharm', 'BSc', 'BA', 'BCA', 'M.Tech', 'PhD', 'Class 12', 'B.Ed',\n",
       "       'LLB', 'BE', 'M.Ed', 'MSc', 'BHM', 'M.Pharm', 'MCA', 'MA', 'B.Com',\n",
       "       'MD', 'MBA', 'MBBS', 'M.Com', 'B.Arch', 'LLM', 'B.Tech', 'BBA',\n",
       "       'ME', 'MHM', 'MPA', 'BH', 'B.Sc', 'Bhopal', 'S.Tech', '20',\n",
       "       'Class 11', 'M', 'P.Com', 'BPharm', 'Unite', 'BArch', 'Badhya',\n",
       "       '0', 'Vivaan', 'BPA', 'Brit', 'B', '7.06', 'Brithika', 'CGPA',\n",
       "       '24', 'Jhanvi', '8.56', 'LHM', 'Marsh', 'L.Ed', 'B.Student',\n",
       "       'LL B.Ed', 'Mthanya', 'Esha', 'LLEd', 'E.Tech', 'LCA'],\n",
       "      dtype=object)"
      ]
     },
     "execution_count": 98,
     "metadata": {},
     "output_type": "execute_result"
    }
   ],
   "source": [
    "X[X[\"Working Professional or Student\"]==\"Student\"][\"Degree\"].unique()"
   ]
  },
  {
   "cell_type": "code",
   "execution_count": 154,
   "metadata": {},
   "outputs": [],
   "source": [
    "X_hat = pd.DataFrame()\n",
    "for col in X:\n",
    "    if X[col].nunique()==2:\n",
    "        X_hat[col] = X[col] == X[col].unique()[0]\n",
    "    elif X[col].dtype==\"object\":\n",
    "        X_hat = pd.concat([X_hat, pd.get_dummies(X[col])], axis=1)\n",
    "    else:\n",
    "        X_hat[col]= X[col]\n"
   ]
  },
  {
   "cell_type": "code",
   "execution_count": 155,
   "metadata": {},
   "outputs": [],
   "source": [
    "X_hat_test = pd.DataFrame()\n",
    "for col in X_test:\n",
    "    if X_test[col].nunique()==2:\n",
    "        X_hat_test[col] = X_test[col] == X_test[col].unique()[0]\n",
    "    elif X_test[col].dtype==\"object\":\n",
    "        X_hat_test = pd.concat([X_hat_test, pd.get_dummies(X_test[col])], axis=1)\n",
    "    else:\n",
    "        X_hat_test[col]= X_test[col]\n"
   ]
  },
  {
   "cell_type": "code",
   "execution_count": 156,
   "metadata": {},
   "outputs": [
    {
     "name": "stdout",
     "output_type": "stream",
     "text": [
      "161\n",
      "161\n",
      "161\n"
     ]
    }
   ],
   "source": [
    "feature_in_common = list(set(X_hat.columns) & set(X_hat_test.columns))\n",
    "X_hat = X_hat[feature_in_common]\n",
    "X_hat_test = X_hat_test[feature_in_common]\n",
    "\n",
    "X_hat = X_hat.loc[:, ~X_hat.columns.duplicated()]\n",
    "X_hat_test = X_hat_test.loc[:, ~X_hat_test.columns.duplicated()]\n",
    "\n",
    "\n",
    "print(len(feature_in_common))\n",
    "print(len(X_hat.columns))\n",
    "print(len(X_hat_test.columns))"
   ]
  },
  {
   "cell_type": "code",
   "execution_count": null,
   "metadata": {},
   "outputs": [],
   "source": []
  },
  {
   "cell_type": "code",
   "execution_count": null,
   "metadata": {},
   "outputs": [],
   "source": [
    "model.fit(X_hat, y)"
   ]
  },
  {
   "cell_type": "code",
   "execution_count": 121,
   "metadata": {},
   "outputs": [],
   "source": [
    "y_hat = model.predict(X_hat)"
   ]
  },
  {
   "cell_type": "code",
   "execution_count": 122,
   "metadata": {},
   "outputs": [
    {
     "data": {
      "text/plain": [
       "0.999864960909737"
      ]
     },
     "execution_count": 122,
     "metadata": {},
     "output_type": "execute_result"
    }
   ],
   "source": [
    "sklearn.metrics.accuracy_score(y_hat, y)"
   ]
  },
  {
   "cell_type": "code",
   "execution_count": 123,
   "metadata": {},
   "outputs": [],
   "source": [
    "pred = model.predict(X_hat_test)"
   ]
  },
  {
   "cell_type": "code",
   "execution_count": 124,
   "metadata": {},
   "outputs": [],
   "source": [
    "submission = pd.DataFrame({\"Depression\":pred}, index = test_data[\"id\"])"
   ]
  },
  {
   "cell_type": "code",
   "execution_count": 125,
   "metadata": {},
   "outputs": [
    {
     "data": {
      "text/html": [
       "<div>\n",
       "<style scoped>\n",
       "    .dataframe tbody tr th:only-of-type {\n",
       "        vertical-align: middle;\n",
       "    }\n",
       "\n",
       "    .dataframe tbody tr th {\n",
       "        vertical-align: top;\n",
       "    }\n",
       "\n",
       "    .dataframe thead th {\n",
       "        text-align: right;\n",
       "    }\n",
       "</style>\n",
       "<table border=\"1\" class=\"dataframe\">\n",
       "  <thead>\n",
       "    <tr style=\"text-align: right;\">\n",
       "      <th></th>\n",
       "      <th>Depression</th>\n",
       "    </tr>\n",
       "    <tr>\n",
       "      <th>id</th>\n",
       "      <th></th>\n",
       "    </tr>\n",
       "  </thead>\n",
       "  <tbody>\n",
       "    <tr>\n",
       "      <th>140700</th>\n",
       "      <td>0</td>\n",
       "    </tr>\n",
       "    <tr>\n",
       "      <th>140701</th>\n",
       "      <td>0</td>\n",
       "    </tr>\n",
       "    <tr>\n",
       "      <th>140702</th>\n",
       "      <td>0</td>\n",
       "    </tr>\n",
       "    <tr>\n",
       "      <th>140703</th>\n",
       "      <td>1</td>\n",
       "    </tr>\n",
       "    <tr>\n",
       "      <th>140704</th>\n",
       "      <td>0</td>\n",
       "    </tr>\n",
       "    <tr>\n",
       "      <th>...</th>\n",
       "      <td>...</td>\n",
       "    </tr>\n",
       "    <tr>\n",
       "      <th>234495</th>\n",
       "      <td>0</td>\n",
       "    </tr>\n",
       "    <tr>\n",
       "      <th>234496</th>\n",
       "      <td>0</td>\n",
       "    </tr>\n",
       "    <tr>\n",
       "      <th>234497</th>\n",
       "      <td>0</td>\n",
       "    </tr>\n",
       "    <tr>\n",
       "      <th>234498</th>\n",
       "      <td>1</td>\n",
       "    </tr>\n",
       "    <tr>\n",
       "      <th>234499</th>\n",
       "      <td>0</td>\n",
       "    </tr>\n",
       "  </tbody>\n",
       "</table>\n",
       "<p>93800 rows × 1 columns</p>\n",
       "</div>"
      ],
      "text/plain": [
       "        Depression\n",
       "id                \n",
       "140700           0\n",
       "140701           0\n",
       "140702           0\n",
       "140703           1\n",
       "140704           0\n",
       "...            ...\n",
       "234495           0\n",
       "234496           0\n",
       "234497           0\n",
       "234498           1\n",
       "234499           0\n",
       "\n",
       "[93800 rows x 1 columns]"
      ]
     },
     "execution_count": 125,
     "metadata": {},
     "output_type": "execute_result"
    }
   ],
   "source": [
    "submission"
   ]
  },
  {
   "cell_type": "code",
   "execution_count": 126,
   "metadata": {},
   "outputs": [],
   "source": [
    "submission.to_csv(\"sub.csv\", index_label=\"id\")"
   ]
  },
  {
   "cell_type": "code",
   "execution_count": null,
   "metadata": {},
   "outputs": [],
   "source": []
  }
 ],
 "metadata": {
  "kernelspec": {
   "display_name": "kaggle-JWcCq52r-py3.9",
   "language": "python",
   "name": "python3"
  },
  "language_info": {
   "codemirror_mode": {
    "name": "ipython",
    "version": 3
   },
   "file_extension": ".py",
   "mimetype": "text/x-python",
   "name": "python",
   "nbconvert_exporter": "python",
   "pygments_lexer": "ipython3",
   "version": "3.9.18"
  }
 },
 "nbformat": 4,
 "nbformat_minor": 2
}
